{
 "cells": [
  {
   "cell_type": "code",
   "execution_count": 66,
   "metadata": {},
   "outputs": [
    {
     "data": {
      "text/plain": [
       "True"
      ]
     },
     "execution_count": 66,
     "metadata": {},
     "output_type": "execute_result"
    }
   ],
   "source": [
    "from datetime import datetime, timedelta\n",
    "start = datetime.utcnow()\n",
    "rip = datetime.strptime(\"Sat Nov 22 08:40:26 +0000 2018\",'%a %b %d %H:%M:%S +0000 %Y')\n",
    "rip > start"
   ]
  },
  {
   "cell_type": "code",
   "execution_count": 22,
   "metadata": {},
   "outputs": [],
   "source": [
    "import warnings\n",
    "warnings.filterwarnings(\"ignore\")\n"
   ]
  },
  {
   "cell_type": "code",
   "execution_count": 47,
   "metadata": {},
   "outputs": [
    {
     "name": "stdout",
     "output_type": "stream",
     "text": [
      "Hello\n"
     ]
    }
   ],
   "source": [
    "x = [1,2,3]\n",
    "if 1 in x:\n",
    "    print(\"Hello\")"
   ]
  },
  {
   "cell_type": "code",
   "execution_count": 85,
   "metadata": {},
   "outputs": [
    {
     "data": {
      "text/plain": [
       "['h',\n",
       " ' ',\n",
       " ' ',\n",
       " 'n',\n",
       " ' ',\n",
       " 'c',\n",
       " 'b',\n",
       " 'b',\n",
       " 'l',\n",
       " 'e',\n",
       " 'r',\n",
       " ' ',\n",
       " ' ',\n",
       " 'w',\n",
       " 'e',\n",
       " 'n',\n",
       " ' ',\n",
       " 'n',\n",
       " 'g',\n",
       " 'r',\n",
       " 'l',\n",
       " ' ',\n",
       " 'h',\n",
       " 'e',\n",
       " ' ',\n",
       " 'w',\n",
       " 'r',\n",
       " ' ',\n",
       " 'n',\n",
       " 'l',\n",
       " ' ',\n",
       " 'r',\n",
       " 'u',\n",
       " 'p',\n",
       " ' ',\n",
       " 'q',\n",
       " 'u',\n",
       " 'c',\n",
       " 'k',\n",
       " 'l',\n",
       " ' ',\n",
       " 'n',\n",
       " ' ',\n",
       " 'f',\n",
       " 'r',\n",
       " 'n',\n",
       " 'c',\n",
       " 'c',\n",
       " ' ',\n",
       " 'r',\n",
       " 'e',\n",
       " 'u',\n",
       " 'e']"
      ]
     },
     "execution_count": 85,
     "metadata": {},
     "output_type": "execute_result"
    }
   ],
   "source": [
    "from nltk.corpus import stopwords\n",
    "from nltk.stem import WordNetLemmatizer\n",
    "from nltk import word_tokenize\n",
    "import string\n",
    "import re\n",
    "wnl = WordNetLemmatizer()\n",
    "stop_words = stopwords.words(\"english\")\n",
    "text = \"This is an cobblers  women angrily the word donald trump Quickly san francisco resumed\"\n",
    "translation = str.maketrans('','', string.punctuation)\n",
    "text = text.lower() # Lowercase everything\n",
    "text = text.translate(translation) # Remove Puntuations\n",
    "text = text.rstrip() # REmove whitespace\n",
    "text = re.sub(r\"http\\S+\", \"\", text) # remove links\n",
    "text = ''.join(filter(lambda x: x in string.printable, text)) #remove non ascii (Emoji)\n",
    "text = word_tokenize(text)\n",
    "text = ([word for word in text if word not in stop_words])\n",
    "text = [wnl.lemmatize(t, pos = 'n') for t in text]\n",
    "text"
   ]
  },
  {
   "cell_type": "code",
   "execution_count": 2,
   "metadata": {},
   "outputs": [],
   "source": [
    "import spacy\n",
    "nlp = spacy.load('en')"
   ]
  },
  {
   "cell_type": "code",
   "execution_count": 3,
   "metadata": {},
   "outputs": [
    {
     "data": {
      "text/plain": [
       "('San Francisco considers banning sidewalk delivery robots\\n',\n",
       " 'San Francisco considers banning sidewalk delivery robots')"
      ]
     },
     "execution_count": 3,
     "metadata": {},
     "output_type": "execute_result"
    }
   ],
   "source": [
    "text = \"San Francisco considers banning sidewalk delivery robots\\n\"\n",
    "nt = text.rstrip()\n",
    "text, nt"
   ]
  },
  {
   "cell_type": "code",
   "execution_count": 7,
   "metadata": {},
   "outputs": [
    {
     "name": "stdout",
     "output_type": "stream",
     "text": [
      "San B\n",
      "Francisco I\n",
      "considers O\n",
      "banning O\n",
      "sidewalk O\n",
      "delivery O\n",
      "robots O\n",
      "\n",
      " B\n"
     ]
    }
   ],
   "source": [
    "doc = nlp(text)\n",
    "for ent in doc:\n",
    "    print(ent.text,ent.ent_iob_)\n",
    "#     if ent.ent_type_ is not \"\":\n",
    "#         print(ent.text, ent.ent_iob_, ent.ent_type_)"
   ]
  }
 ],
 "metadata": {
  "kernelspec": {
   "display_name": "Python 3",
   "language": "python",
   "name": "python3"
  },
  "language_info": {
   "codemirror_mode": {
    "name": "ipython",
    "version": 3
   },
   "file_extension": ".py",
   "mimetype": "text/x-python",
   "name": "python",
   "nbconvert_exporter": "python",
   "pygments_lexer": "ipython3",
   "version": "3.6.5"
  }
 },
 "nbformat": 4,
 "nbformat_minor": 2
}
