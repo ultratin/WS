{
 "cells": [
  {
   "cell_type": "code",
   "execution_count": 66,
   "metadata": {},
   "outputs": [
    {
     "data": {
      "text/plain": [
       "True"
      ]
     },
     "execution_count": 66,
     "metadata": {},
     "output_type": "execute_result"
    }
   ],
   "source": [
    "from datetime import datetime, timedelta\n",
    "start = datetime.utcnow()\n",
    "rip = datetime.strptime(\"Sat Nov 22 08:40:26 +0000 2018\",'%a %b %d %H:%M:%S +0000 %Y')\n",
    "rip > start"
   ]
  },
  {
   "cell_type": "code",
   "execution_count": 22,
   "metadata": {},
   "outputs": [],
   "source": [
    "import warnings\n",
    "warnings.filterwarnings(\"ignore\")\n"
   ]
  },
  {
   "cell_type": "code",
   "execution_count": 47,
   "metadata": {},
   "outputs": [
    {
     "name": "stdout",
     "output_type": "stream",
     "text": [
      "Hello\n"
     ]
    }
   ],
   "source": [
    "x = [1,2,3]\n",
    "if 1 in x:\n",
    "    print(\"Hello\")"
   ]
  },
  {
   "cell_type": "code",
   "execution_count": 87,
   "metadata": {},
   "outputs": [
    {
     "data": {
      "text/plain": [
       "'cobbler woman angrily word donald trump quickly san francisco resumed'"
      ]
     },
     "execution_count": 87,
     "metadata": {},
     "output_type": "execute_result"
    }
   ],
   "source": [
    "from nltk.corpus import stopwords\n",
    "from nltk.stem import WordNetLemmatizer\n",
    "from nltk import word_tokenize\n",
    "import string\n",
    "import re\n",
    "wnl = WordNetLemmatizer()\n",
    "stop_words = stopwords.words(\"english\")\n",
    "text = \"This is an cobblers  women angrily the word donald trump Quickly san francisco resumed\"\n",
    "translation = str.maketrans('','', string.punctuation)\n",
    "text = text.lower() # Lowercase everything\n",
    "text = text.translate(translation) # Remove Puntuations\n",
    "text = text.rstrip() # REmove whitespace\n",
    "text = re.sub(r\"http\\S+\", \"\", text) # remove links\n",
    "text = ''.join(filter(lambda x: x in string.printable, text)) #remove non ascii (Emoji)\n",
    "text = word_tokenize(text)\n",
    "text = ([word for word in text if word not in stop_words])\n",
    "text = [wnl.lemmatize(t, pos = 'n') for t in text]\n",
    "text = \" \".join(text)\n",
    "text"
   ]
  },
  {
   "cell_type": "code",
   "execution_count": 105,
   "metadata": {},
   "outputs": [
    {
     "data": {
      "text/plain": [
       "['cobblers', 'women', 'word', 'Quickly', 'san', 'francisco']"
      ]
     },
     "execution_count": 105,
     "metadata": {},
     "output_type": "execute_result"
    }
   ],
   "source": [
    "from nltk import pos_tag\n",
    "text = \"This is an cobblers  women angrily the word donald trump Quickly san francisco resumed\"\n",
    "[word for (word, pos) in pos_tag(word_tokenize(text)) if pos[0] == 'N']"
   ]
  },
  {
   "cell_type": "code",
   "execution_count": 90,
   "metadata": {},
   "outputs": [
    {
     "name": "stderr",
     "output_type": "stream",
     "text": [
      "E:\\Anaconda\\lib\\importlib\\_bootstrap.py:219: RuntimeWarning: cymem.cymem.Pool size changed, may indicate binary incompatibility. Expected 48 from C header, got 64 from PyObject\n",
      "  return f(*args, **kwds)\n",
      "E:\\Anaconda\\lib\\importlib\\_bootstrap.py:219: RuntimeWarning: cymem.cymem.Address size changed, may indicate binary incompatibility. Expected 24 from C header, got 40 from PyObject\n",
      "  return f(*args, **kwds)\n",
      "E:\\Anaconda\\lib\\importlib\\_bootstrap.py:219: RuntimeWarning: cymem.cymem.Pool size changed, may indicate binary incompatibility. Expected 48 from C header, got 64 from PyObject\n",
      "  return f(*args, **kwds)\n",
      "E:\\Anaconda\\lib\\importlib\\_bootstrap.py:219: RuntimeWarning: cymem.cymem.Address size changed, may indicate binary incompatibility. Expected 24 from C header, got 40 from PyObject\n",
      "  return f(*args, **kwds)\n"
     ]
    }
   ],
   "source": [
    "import spacy\n",
    "nlp = spacy.load('en')"
   ]
  },
  {
   "cell_type": "code",
   "execution_count": 100,
   "metadata": {},
   "outputs": [
    {
     "data": {
      "text/plain": [
       "('sign wont Singapore', 'sign wont Singapore')"
      ]
     },
     "execution_count": 100,
     "metadata": {},
     "output_type": "execute_result"
    }
   ],
   "source": [
    "text = \"sign wont Singapore\"\n",
    "nt = text.rstrip()\n",
    "text, nt"
   ]
  },
  {
   "cell_type": "code",
   "execution_count": 101,
   "metadata": {},
   "outputs": [
    {
     "name": "stdout",
     "output_type": "stream",
     "text": [
      "sign O\n",
      "wo O\n",
      "nt O\n",
      "Singapore B\n"
     ]
    }
   ],
   "source": [
    "doc = nlp(text)\n",
    "for ent in doc:\n",
    "    print(ent.text,ent.ent_iob_)\n",
    "#     if ent.ent_type_ is not \"\":\n",
    "#         print(ent.text, ent.ent_iob_, ent.ent_type_)"
   ]
  }
 ],
 "metadata": {
  "kernelspec": {
   "display_name": "Python 3",
   "language": "python",
   "name": "python3"
  },
  "language_info": {
   "codemirror_mode": {
    "name": "ipython",
    "version": 3
   },
   "file_extension": ".py",
   "mimetype": "text/x-python",
   "name": "python",
   "nbconvert_exporter": "python",
   "pygments_lexer": "ipython3",
   "version": "3.6.5"
  }
 },
 "nbformat": 4,
 "nbformat_minor": 2
}
