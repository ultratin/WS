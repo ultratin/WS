{
 "cells": [
  {
   "cell_type": "code",
   "execution_count": 4,
   "metadata": {},
   "outputs": [
    {
     "data": {
      "text/plain": [
       "(['I am a very good ux designer', 'Hello I am donal trump'],\n",
       " array([[1, 1, 0, 1, 0, 0, 1, 1],\n",
       "        [1, 0, 1, 0, 1, 1, 0, 0]], dtype=int64),\n",
       " ['am', 'designer', 'donal', 'good', 'hello', 'trump', 'ux', 'very'])"
      ]
     },
     "execution_count": 4,
     "metadata": {},
     "output_type": "execute_result"
    }
   ],
   "source": [
    "from sklearn.feature_extraction.text import CountVectorizer\n",
    "vectorizer = CountVectorizer()\n",
    "text1 = \"I am a very good ux designer\"\n",
    "text2 = \"Hello I am donal trump\"\n",
    "corpus = []\n",
    "corpus.append(text1)\n",
    "corpus.append(text2)\n",
    "X = vectorizer.fit_transform(corpus)\n",
    "corpus,X.toarray(), vectorizer.get_feature_names()"
   ]
  }
 ],
 "metadata": {
  "kernelspec": {
   "display_name": "Python 3",
   "language": "python",
   "name": "python3"
  },
  "language_info": {
   "codemirror_mode": {
    "name": "ipython",
    "version": 3
   },
   "file_extension": ".py",
   "mimetype": "text/x-python",
   "name": "python",
   "nbconvert_exporter": "python",
   "pygments_lexer": "ipython3",
   "version": "3.6.5"
  }
 },
 "nbformat": 4,
 "nbformat_minor": 2
}
