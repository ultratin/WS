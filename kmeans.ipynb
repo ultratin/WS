{
 "cells": [
  {
   "cell_type": "code",
   "execution_count": 1,
   "metadata": {},
   "outputs": [
    {
     "data": {
      "text/plain": [
       "True"
      ]
     },
     "execution_count": 1,
     "metadata": {},
     "output_type": "execute_result"
    }
   ],
   "source": [
    "from sklearn.cluster import KMeans\n",
    "from sklearn.feature_extraction.text import CountVectorizer\n",
    "from sklearn.feature_extraction.text import TfidfVectorizer\n",
    "\n",
    "import nltk\n",
    "from nltk.stem import WordNetLemmatizer\n",
    "from nltk import word_tokenize\n",
    "\n",
    "from pymongo import MongoClient\n",
    "import collections\n",
    "import matplotlib.pyplot as plt\n",
    "import re\n",
    "from random import choices\n",
    "import string\n",
    "nltk.download('popular', quiet = 'true')"
   ]
  },
  {
   "cell_type": "code",
   "execution_count": 2,
   "metadata": {},
   "outputs": [],
   "source": [
    "#Mongo DB Information\n",
    "client = MongoClient('localhost', 27017)\n",
    "db = client['twitter2']  \n",
    "streaming_collection = db['streaming']\n",
    "rest_collection = db['rest']\n",
    "updated_geo = db['geo']"
   ]
  },
  {
   "cell_type": "code",
   "execution_count": 25,
   "metadata": {},
   "outputs": [
    {
     "data": {
      "text/plain": [
       "4419"
      ]
     },
     "execution_count": 25,
     "metadata": {},
     "output_type": "execute_result"
    }
   ],
   "source": [
    "rest_rt = list(rest_collection.find({\"retweeted_status\":{\"$exists\": False}}))\n",
    "streaming_rt = list(streaming_collection.find({\"retweeted_status\":{\"$exists\": False}}))\n",
    "combined_list = rest_rt + streaming_rt\n",
    "distinct_list = list({tweet['id']:tweet for tweet in combined_list}.values())\n",
    "len(distinct_list)"
   ]
  },
  {
   "cell_type": "code",
   "execution_count": 144,
   "metadata": {},
   "outputs": [],
   "source": [
    "class LemmaTokenizer(object):\n",
    "    def __init__(self):\n",
    "        self.wnl = WordNetLemmatizer()\n",
    "    def __call__(self, doc):\n",
    "        return [self.wnl.lemmatize(t, 'n') for t in word_tokenize(doc)]"
   ]
  },
  {
   "cell_type": "code",
   "execution_count": 146,
   "metadata": {},
   "outputs": [],
   "source": [
    "vectorizer = CountVectorizer(tokenizer=LemmaTokenizer() ,\n",
    "                             stop_words = \"english\", \n",
    "                             strip_accents = 'unicode',\n",
    "                             lowercase = True,\n",
    "                             min_df = 2,)\n",
    "#                              max_features = int((len(distinct_list)/10)))"
   ]
  },
  {
   "cell_type": "code",
   "execution_count": 30,
   "metadata": {},
   "outputs": [],
   "source": [
    "vectorizer = TfidfVectorizer(tokenizer=LemmaTokenizer() ,\n",
    "                             stop_words = \"english\", \n",
    "                             strip_accents = 'unicode',\n",
    "                             lowercase = True,\n",
    "                             min_df = 2,)\n",
    "#                              max_features = int((len(distinct_list)/10)))"
   ]
  },
  {
   "cell_type": "code",
   "execution_count": 166,
   "metadata": {},
   "outputs": [],
   "source": [
    "corpus = []\n",
    "translation = str.maketrans('','', string.punctuation)\n",
    "is_noun = lambda pos: pos[:2] == 'NN'\n",
    "for tweets in distinct_list:\n",
    "    text = tweets['text']\n",
    "    text = re.sub(r\"http\\S+\", \"\", text) # remove links\n",
    "    text = \"\".join(filter(lambda x: x in string.printable, text)) #remove non ascii\n",
    "#     text = \"\".join([i for i in text if not i.isdigit()]) #remove digits\n",
    "#     text = text.translate(translation) #remove puntuations\n",
    "    text = re.sub(r'\\b\\w{1,3}\\b', '', text) #remove characters less than 3\n",
    "    tokenized = word_tokenize(text)\n",
    "    text = \" \".join([word for (word, pos) in nltk.pos_tag(tokenized) if pos.startswith('N')])\n",
    "    corpus.append(text)\n",
    "X = vectorizer.fit_transform(corpus)"
   ]
  },
  {
   "cell_type": "code",
   "execution_count": 167,
   "metadata": {},
   "outputs": [
    {
     "data": {
      "text/plain": [
       "2211"
      ]
     },
     "execution_count": 167,
     "metadata": {},
     "output_type": "execute_result"
    }
   ],
   "source": [
    "len(vectorizer.get_feature_names())"
   ]
  },
  {
   "cell_type": "code",
   "execution_count": 149,
   "metadata": {},
   "outputs": [],
   "source": [
    "Sum_of_squared_distances = []\n",
    "K = range(1,20)\n",
    "for k in K:\n",
    "    kmeans = KMeans(n_clusters=k, n_jobs = -1, max_iter = 1000).fit(X)\n",
    "    Sum_of_squared_distances.append(kmeans.inertia_)"
   ]
  },
  {
   "cell_type": "code",
   "execution_count": 150,
   "metadata": {},
   "outputs": [
    {
     "data": {
      "image/png": "[encoded data removed]",
      "text/plain": [
       "<Figure size 432x288 with 1 Axes>"
      ]
     },
     "metadata": {},
     "output_type": "display_data"
    }
   ],
   "source": [
    "plt.plot(K, Sum_of_squared_distances, 'bx-')\n",
    "plt.xticks(K)\n",
    "plt.xlabel('k')\n",
    "plt.ylabel('Sum_of_squared_distances')\n",
    "plt.title('Elbow Method For Optimal k')\n",
    "plt.show()"
   ]
  },
  {
   "cell_type": "code",
   "execution_count": 151,
   "metadata": {},
   "outputs": [],
   "source": [
    "kmeans = KMeans(n_clusters= 3,\n",
    "                n_jobs = -1).fit(X)"
   ]
  },
  {
   "cell_type": "code",
   "execution_count": 152,
   "metadata": {},
   "outputs": [
    {
     "data": {
      "text/plain": [
       "Counter({0: 4221, 1: 56, 2: 142})"
      ]
     },
     "execution_count": 152,
     "metadata": {},
     "output_type": "execute_result"
    }
   ],
   "source": [
    "centroids = kmeans.cluster_centers_\n",
    "labels = kmeans.labels_\n",
    "collections.Counter(labels)"
   ]
  },
  {
   "cell_type": "code",
   "execution_count": 153,
   "metadata": {
    "scrolled": false
   },
   "outputs": [
    {
     "data": {
      "text/plain": [
       "[360, 5, 9]"
      ]
     },
     "execution_count": 153,
     "metadata": {},
     "output_type": "execute_result"
    }
   ],
   "source": [
    "list_size = len(collections.Counter(labels))\n",
    "geo_tagged = [0] * list_size\n",
    "profile_location = [0] * list_size\n",
    "cluster = [dict() for x in range(list_size)]\n",
    "for i in range(len(corpus)):\n",
    "    index = labels[i]\n",
    "    if distinct_list[i]['place'] is not None:\n",
    "        geo_tagged[index] +=1\n",
    "        key =  distinct_list[i]['place']['full_name']\n",
    "        if key in cluster[index]:\n",
    "            cluster[index][key] +=1\n",
    "        else:\n",
    "            cluster[index][key] = 1\n",
    "    if distinct_list[i]['user']['location'] is not None:\n",
    "        profile_location[index] +=1\n",
    "geo_tagged"
   ]
  },
  {
   "cell_type": "code",
   "execution_count": 154,
   "metadata": {},
   "outputs": [],
   "source": [
    "def count_location_weights(cluster):\n",
    "    location = []\n",
    "    weights = []\n",
    "    for i in range(list_size):\n",
    "        for key in cluster[i]:\n",
    "            counter = cluster[i][key]\n",
    "            cluster[i][key] = counter/geo_tagged[i] * 100\n",
    "            location.append(list(cluster[i].keys()))\n",
    "            weights.append(list(cluster[i].values()))\n",
    "    return location, weights"
   ]
  },
  {
   "cell_type": "code",
   "execution_count": 155,
   "metadata": {},
   "outputs": [],
   "source": [
    "location, weights = count_location_weights(cluster)"
   ]
  },
  {
   "cell_type": "code",
   "execution_count": 156,
   "metadata": {},
   "outputs": [],
   "source": [
    "#assigning geo based on probabilistic model\n",
    "for i in range(len(corpus)):\n",
    "    index = labels[i]\n",
    "    if distinct_list[i]['place'] is None:\n",
    "        distinct_list[i]['assigned_geo'] = choices(location[index],weights[index])"
   ]
  },
  {
   "cell_type": "code",
   "execution_count": 162,
   "metadata": {},
   "outputs": [
    {
     "name": "stdout",
     "output_type": "stream",
     "text": [
      "Acuracy using 50% as training data and 50% as assignment for cluster 0: 28.888888888888886\n",
      "Acuracy using 50% as training data and 50% as assignment for cluster 1: 40.0\n",
      "Acuracy using 50% as training data and 50% as assignment for cluster 2: 44.44444444444444\n"
     ]
    }
   ],
   "source": [
    "list_size = len(collections.Counter(labels))\n",
    "geo_counter = [0] * list_size\n",
    "training_cluster = [dict() for x in range(list_size)]\n",
    "for i in range(len(corpus)):\n",
    "    index = labels[i]\n",
    "    if distinct_list[i]['place'] is not None:\n",
    "        if int(geo_tagged[index]/2) != geo_counter[index]:\n",
    "            geo_counter[index] += 1\n",
    "            key =  distinct_list[i]['place']['full_name']\n",
    "            distinct_list[i][\"training\"] = True\n",
    "            if key in training_cluster[index]:\n",
    "                training_cluster[index][key] +=1\n",
    "            else:\n",
    "                training_cluster[index][key] = 1\n",
    "        else:\n",
    "            distinct_list[i][\"training\"] = False\n",
    "\n",
    "training_location, training_weights = count_location_weights(training_cluster) \n",
    "\n",
    "percentage = [0]* list_size \n",
    "for i in range(len(corpus)):\n",
    "    index = labels[i]\n",
    "    if distinct_list[i]['place'] is not None and distinct_list[i][\"training\"] is False:\n",
    "        assigned = choices(training_location[index],training_weights[index])[0]\n",
    "        if assigned == distinct_list[i]['place']['full_name']:\n",
    "            percentage[index] += 1\n",
    "            \n",
    "for i in range(len(percentage)):\n",
    "    if geo_tagged[i] == 0:\n",
    "        print(f\"No assignment possible due to no geo tweets in cluster {i}\")\n",
    "    else:\n",
    "        print(f\"Acuracy using 50% as training data and 50% as assignment for cluster {i}: {percentage[i]/(geo_tagged[i]/2) * 100}\")"
   ]
  },
  {
   "cell_type": "code",
   "execution_count": null,
   "metadata": {},
   "outputs": [],
   "source": []
  }
 ],
 "metadata": {
  "kernelspec": {
   "display_name": "Python 3",
   "language": "python",
   "name": "python3"
  },
  "language_info": {
   "codemirror_mode": {
    "name": "ipython",
    "version": 3
   },
   "file_extension": ".py",
   "mimetype": "text/x-python",
   "name": "python",
   "nbconvert_exporter": "python",
   "pygments_lexer": "ipython3",
   "version": "3.6.5"
  }
 },
 "nbformat": 4,
 "nbformat_minor": 2
}
