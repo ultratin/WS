{
 "cells": [
  {
   "cell_type": "code",
   "execution_count": 200,
   "metadata": {},
   "outputs": [
    {
     "data": {
      "text/plain": [
       "True"
      ]
     },
     "execution_count": 200,
     "metadata": {},
     "output_type": "execute_result"
    }
   ],
   "source": [
    "from sklearn.cluster import KMeans\n",
    "from sklearn.feature_extraction.text import CountVectorizer\n",
    "from sklearn.feature_extraction.text import TfidfVectorizer\n",
    "\n",
    "import nltk\n",
    "from nltk.stem import WordNetLemmatizer\n",
    "from nltk import word_tokenize\n",
    "\n",
    "from pymongo import MongoClient\n",
    "import collections\n",
    "import matplotlib.pyplot as plt\n",
    "import re\n",
    "from random import choices\n",
    "import string\n",
    "nltk.download('popular', quiet = 'true')"
   ]
  },
  {
   "cell_type": "code",
   "execution_count": 201,
   "metadata": {},
   "outputs": [],
   "source": [
    "# Mongodb information\n",
    "client = MongoClient('localhost', 27017)\n",
    "db = client['twitter']  \n",
    "streaming_collection = db['streaming']\n",
    "rest_collection = db['rest']\n",
    "updated_geo = db['geo']"
   ]
  },
  {
   "cell_type": "markdown",
   "metadata": {},
   "source": [
    "Get the total number of unique tweets taking away all the retweets and duplicated ids"
   ]
  },
  {
   "cell_type": "code",
   "execution_count": 202,
   "metadata": {},
   "outputs": [],
   "source": [
    "rest_rt = list(rest_collection.find({\"retweeted_status\":{\"$exists\": False}}))\n",
    "streaming_rt = list(streaming_collection.find({\"retweeted_status\":{\"$exists\": False}}))\n",
    "combined_list = rest_rt + streaming_rt\n",
    "distinct_list = list({tweet['id']:tweet for tweet in combined_list}.values())"
   ]
  },
  {
   "cell_type": "markdown",
   "metadata": {},
   "source": [
    "Lemmatize all NOUNS only as clustering by events and verbs and everything else don't matter in that sense"
   ]
  },
  {
   "cell_type": "code",
   "execution_count": 203,
   "metadata": {},
   "outputs": [],
   "source": [
    "class LemmaTokenizer(object):\n",
    "    def __init__(self):\n",
    "        self.wnl = WordNetLemmatizer()\n",
    "    def __call__(self, doc):\n",
    "        return [self.wnl.lemmatize(t, 'n') for t in word_tokenize(doc)]"
   ]
  },
  {
   "cell_type": "markdown",
   "metadata": {},
   "source": [
    "Use countvectorizer with the lemma tokenizer to create a bag of words for comparison\n",
    "Remove stopwords, ensure everything is in unicode and lowercase everything, additionally I've added that words in the corpus must at least appear in two tweets so that can be a comparison"
   ]
  },
  {
   "cell_type": "code",
   "execution_count": 204,
   "metadata": {},
   "outputs": [],
   "source": [
    "vectorizer = CountVectorizer(tokenizer=LemmaTokenizer() ,\n",
    "                             stop_words = \"english\", \n",
    "                             strip_accents = 'unicode',\n",
    "                             lowercase = True,\n",
    "                             min_df = 2,)"
   ]
  },
  {
   "cell_type": "markdown",
   "metadata": {},
   "source": [
    "Create a corpus and do text processing such as \n",
    "- removing links\n",
    "- removing non-ascii (emoji)\n",
    "- Removing digits\n",
    "- Removing words that are less than 3 character long\n",
    "- parse through NLTK to only extract nouns for comparison into the corpus\n",
    "\n",
    "Then finally vectorize all nouns(events) into a bag of words"
   ]
  },
  {
   "cell_type": "code",
   "execution_count": 205,
   "metadata": {},
   "outputs": [],
   "source": [
    "corpus = []\n",
    "for tweets in distinct_list:\n",
    "    text = tweets['text']\n",
    "    text = re.sub(r\"http\\S+\", \"\", text) # remove links\n",
    "    text = \"\".join(filter(lambda x: x in string.printable, text)) #remove non ascii\n",
    "    text = \"\".join([i for i in text if not i.isdigit()]) #remove digits\n",
    "    text = re.sub(r'\\b\\w{1,3}\\b', '', text) #remove characters less than 3\n",
    "    tokenized = word_tokenize(text)\n",
    "    text = \" \".join([word for (word, pos) in nltk.pos_tag(tokenized) if pos.startswith('N')])\n",
    "    corpus.append(text)\n",
    "X = vectorizer.fit_transform(corpus)"
   ]
  },
  {
   "cell_type": "markdown",
   "metadata": {},
   "source": [
    "Using kmeans to cluster, as we are unsure of how many clusters should be used, we kmeans the data set with cluster 1-20 and plot a graph using the inertia to determin the elbow"
   ]
  },
  {
   "cell_type": "code",
   "execution_count": 206,
   "metadata": {},
   "outputs": [],
   "source": [
    "Sum_of_squared_distances = []\n",
    "K = range(1,20)\n",
    "for k in K:\n",
    "    kmeans = KMeans(n_clusters=k, n_jobs = -1, n_init=25, random_state=0).fit(X)\n",
    "    Sum_of_squared_distances.append(kmeans.inertia_)"
   ]
  },
  {
   "cell_type": "code",
   "execution_count": 207,
   "metadata": {},
   "outputs": [
    {
     "data": {
      "image/png": "[encoded data removed]",
      "text/plain": [
       "<Figure size 432x288 with 1 Axes>"
      ]
     },
     "metadata": {},
     "output_type": "display_data"
    }
   ],
   "source": [
    "plt.plot(K, Sum_of_squared_distances, 'bx-')\n",
    "plt.xticks(K)\n",
    "plt.xlabel('k')\n",
    "plt.ylabel('Sum_of_squared_distances')\n",
    "plt.title('Elbow Method For Optimal k')\n",
    "plt.show()"
   ]
  },
  {
   "cell_type": "markdown",
   "metadata": {},
   "source": [
    "After determining the elbow, cluster based on that"
   ]
  },
  {
   "cell_type": "code",
   "execution_count": 261,
   "metadata": {},
   "outputs": [],
   "source": [
    "kmeans = KMeans(n_clusters= 5,\n",
    "                n_jobs = -1,\n",
    "                n_init=25).fit(X)"
   ]
  },
  {
   "cell_type": "code",
   "execution_count": 239,
   "metadata": {},
   "outputs": [],
   "source": [
    "labels = kmeans.labels_"
   ]
  },
  {
   "cell_type": "markdown",
   "metadata": {},
   "source": [
    "Get the count of how many geo tagged tweets and how many profile have a location tagged to them\n",
    "At the same time, I getting how many different locations there are in a cluster and the number of time the appear.\n",
    "This is to do my probabilistic assignment of geo for every other tweet in the cluster"
   ]
  },
  {
   "cell_type": "code",
   "execution_count": 273,
   "metadata": {
    "scrolled": false
   },
   "outputs": [],
   "source": [
    "list_size = len(collections.Counter(labels))\n",
    "geo_tagged = [0] * list_size\n",
    "profile_location = [0] * list_size\n",
    "tweet_per_cluster = [0] * list_size\n",
    "cluster = [dict() for x in range(list_size)]\n",
    "for i in range(len(corpus)):\n",
    "    index = labels[i]\n",
    "    if distinct_list[i]['place'] is not None:\n",
    "        geo_tagged[index] +=1\n",
    "        key =  distinct_list[i]['place']['full_name'] \n",
    "        if key in cluster[index]:\n",
    "            cluster[index][key] +=1\n",
    "        else:\n",
    "            cluster[index][key] = 1\n",
    "    if distinct_list[i]['user']['location'] is not None:\n",
    "        profile_location[index] +=1\n",
    "    tweet_per_cluster[index] += 1"
   ]
  },
  {
   "cell_type": "code",
   "execution_count": 293,
   "metadata": {
    "scrolled": true
   },
   "outputs": [
    {
     "data": {
      "image/png": "[encoded data removed]",
      "text/plain": [
       "<Figure size 432x288 with 1 Axes>"
      ]
     },
     "metadata": {},
     "output_type": "display_data"
    }
   ],
   "source": [
    "cluster_size = list(range(list_size))\n",
    "plt.bar(cluster_size, tweet_per_cluster, color='r')\n",
    "plt.title(\"Number of tweets per cluster\")\n",
    "plt.xlabel(\"Cluster Number\")\n",
    "plt.ylabel(\"Number of tweets\")\n",
    "plt.tight_layout()\n",
    "plt.show()"
   ]
  },
  {
   "cell_type": "code",
   "execution_count": 291,
   "metadata": {},
   "outputs": [
    {
     "data": {
      "image/png": "[encoded data removed]",
      "text/plain": [
       "<Figure size 432x288 with 1 Axes>"
      ]
     },
     "metadata": {},
     "output_type": "display_data"
    }
   ],
   "source": [
    "plt.bar(cluster_size, geo_tagged, color='r')\n",
    "plt.title(\"Number of geo tweets\")\n",
    "plt.xlabel(\"Cluster Number\")\n",
    "plt.ylabel(\"Number of tweets\")\n",
    "plt.tight_layout()\n",
    "plt.show()"
   ]
  },
  {
   "cell_type": "code",
   "execution_count": 274,
   "metadata": {},
   "outputs": [
    {
     "data": {
      "image/png": "[encoded data removed]",
      "text/plain": [
       "<Figure size 432x288 with 1 Axes>"
      ]
     },
     "metadata": {},
     "output_type": "display_data"
    }
   ],
   "source": [
    "plt.bar(cluster_size, profile_location, color='r')\n",
    "plt.title(\"Number of profile with geo\")\n",
    "plt.xlabel(\"Cluster Number\")\n",
    "plt.ylabel(\"Number of tweets\")\n",
    "plt.tight_layout()\n",
    "plt.show()"
   ]
  },
  {
   "cell_type": "code",
   "execution_count": 301,
   "metadata": {},
   "outputs": [
    {
     "data": {
      "image/png": "[encoded data removed]",
      "text/plain": [
       "<Figure size 432x288 with 1 Axes>"
      ]
     },
     "metadata": {},
     "output_type": "display_data"
    },
    {
     "data": {
      "text/plain": [
       "[32, 1541, 28, 291, 21]"
      ]
     },
     "execution_count": 301,
     "metadata": {},
     "output_type": "execute_result"
    }
   ],
   "source": [
    "no_geo = [0] * list_size\n",
    "for i in range(0,list_size):\n",
    "    no_geo[i] = tweet_per_cluster[i] - geo_tagged[i]\n",
    "plt.bar(cluster_size, no_geo, color='r')\n",
    "plt.title(\"Number of tweets without geo\")\n",
    "plt.xlabel(\"Cluster Number\")\n",
    "plt.ylabel(\"Number of tweets\")\n",
    "plt.tight_layout()\n",
    "plt.show()\n",
    "tweet_per_cluster"
   ]
  },
  {
   "cell_type": "markdown",
   "metadata": {},
   "source": [
    "Function for getting the weights of each location in percentage in each cluster"
   ]
  },
  {
   "cell_type": "code",
   "execution_count": 211,
   "metadata": {},
   "outputs": [],
   "source": [
    "def count_location_weights(cluster,list_size):\n",
    "    location = []\n",
    "    weights = []\n",
    "    for i in range(0,list_size):\n",
    "        for key in cluster[i]:\n",
    "            cluster[i][key] = cluster[i][key]/geo_tagged[i] * 100\n",
    "        location.append(list(cluster[i].keys()))\n",
    "        weights.append(list(cluster[i].values()))\n",
    "    return location, weights"
   ]
  },
  {
   "cell_type": "code",
   "execution_count": 212,
   "metadata": {},
   "outputs": [],
   "source": [
    "location, weights = count_location_weights(cluster, list_size)"
   ]
  },
  {
   "cell_type": "markdown",
   "metadata": {},
   "source": [
    "Assign all other tweets in each cluster without geo information using a probabilistic model and assign a new json field for storage"
   ]
  },
  {
   "cell_type": "code",
   "execution_count": 213,
   "metadata": {},
   "outputs": [],
   "source": [
    "#assigning geo based on probabilistic model\n",
    "for i in range(len(corpus)):\n",
    "    index = labels[i]\n",
    "    if distinct_list[i]['place'] is None:\n",
    "        if location[index]:\n",
    "            distinct_list[i]['assigned_geo'] = choices(location[index],weights[index])"
   ]
  },
  {
   "cell_type": "markdown",
   "metadata": {},
   "source": [
    "Check the accuracy using the probabilitic model by using 50% of the geo tagged data as a training set and assigning the other 50% "
   ]
  },
  {
   "cell_type": "code",
   "execution_count": 304,
   "metadata": {},
   "outputs": [],
   "source": [
    "list_size = len(collections.Counter(labels))\n",
    "geo_counter = [0] * list_size\n",
    "training_cluster = [dict() for x in range(list_size)]\n",
    "for i in range(len(corpus)):\n",
    "    index = labels[i]\n",
    "    if distinct_list[i]['place'] is not None:\n",
    "        if int(geo_tagged[index]/2) != geo_counter[index]:\n",
    "            geo_counter[index] += 1\n",
    "            key =  distinct_list[i]['place']['full_name']\n",
    "            distinct_list[i][\"training\"] = True\n",
    "            if key in training_cluster[index]:\n",
    "                training_cluster[index][key] +=1\n",
    "            else:\n",
    "                training_cluster[index][key] = 1\n",
    "        else:\n",
    "            distinct_list[i][\"training\"] = False\n",
    "\n",
    "training_location, training_weights = count_location_weights(training_cluster, list_size) "
   ]
  },
  {
   "cell_type": "markdown",
   "metadata": {},
   "source": [
    "Assign the 50% with the train probabilitic model and assign accordingly, if there is no geo tagged data or only 1, assignment is not possible"
   ]
  },
  {
   "cell_type": "code",
   "execution_count": 307,
   "metadata": {},
   "outputs": [
    {
     "name": "stdout",
     "output_type": "stream",
     "text": [
      "Acuracy using 50% as training data and 50% as assignment for cluster 0: 50.0%\n",
      "Acuracy using 50% as training data and 50% as assignment for cluster 1: 33.54037267080746%\n",
      "Acuracy using 50% as training data and 50% as assignment for cluster 2: 50.0%\n",
      "Acuracy using 50% as training data and 50% as assignment for cluster 3: 40.909090909090914%\n",
      "No assignment possible due either 0 or 1 geo tweets for cluster 4\n"
     ]
    }
   ],
   "source": [
    "percentage = [0]* list_size \n",
    "for i in range(len(corpus)):\n",
    "    index = labels[i]\n",
    "    if distinct_list[i]['place'] is not None and distinct_list[i][\"training\"] is False and geo_tagged[index] > 1:\n",
    "        assigned = choices(training_location[index],training_weights[index])[0]\n",
    "        if assigned == distinct_list[i]['place']['full_name']:\n",
    "            percentage[index] += 1\n",
    "            \n",
    "for i in range(len(percentage)):\n",
    "    if geo_tagged[i] < 2:\n",
    "        print(f\"No assignment possible due either 0 or 1 geo tweets for cluster {i}\")\n",
    "    elif (percentage[i]/(geo_tagged[i]/2)) > 1:\n",
    "        print(f\"Acuracy using 50% as training data and 50% as assignment for cluster {i}: 100%\")\n",
    "    else:\n",
    "        print(f\"Acuracy using 50% as training data and 50% as assignment for cluster {i}: {percentage[i]/(geo_tagged[i]/2) * 100}%\")"
   ]
  }
 ],
 "metadata": {
  "kernelspec": {
   "display_name": "Python 3",
   "language": "python",
   "name": "python3"
  },
  "language_info": {
   "codemirror_mode": {
    "name": "ipython",
    "version": 3
   },
   "file_extension": ".py",
   "mimetype": "text/x-python",
   "name": "python",
   "nbconvert_exporter": "python",
   "pygments_lexer": "ipython3",
   "version": "3.6.5"
  }
 },
 "nbformat": 4,
 "nbformat_minor": 2
}
